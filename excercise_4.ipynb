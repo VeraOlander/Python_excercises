{
 "cells": [
  {
   "cell_type": "markdown",
   "id": "3570e1b1",
   "metadata": {},
   "source": [
    "0. Counting words (*)\n",
    "Count the number of words in this sentence: \"A picture says more than a thousand words, a matematical formula says more than a thousand pictures.\" (*)"
   ]
  },
  {
   "cell_type": "code",
   "execution_count": 6,
   "id": "ce883cdc",
   "metadata": {},
   "outputs": [
    {
     "name": "stdout",
     "output_type": "stream",
     "text": [
      "['A', 'picture', 'says', 'more', 'than', 'a', 'thousand', 'words,', 'a', 'matematical', 'formula', 'says', 'more', 'than', 'a', 'thousand', 'pictures']\n"
     ]
    },
    {
     "data": {
      "text/plain": [
       "17"
      ]
     },
     "execution_count": 6,
     "metadata": {},
     "output_type": "execute_result"
    }
   ],
   "source": [
    "x = \"A picture says more than a thousand words, a matematical formula says more than a thousand pictures\"\n",
    "list_sentence = x.split()\n",
    "\n",
    "print(list_sentence)\n",
    "number_words=len(list_sentence)\n",
    "number_words\n"
   ]
  },
  {
   "cell_type": "markdown",
   "id": "d0609350",
   "metadata": {},
   "source": [
    "1. Counting letters (*)\n",
    "Let the user input a word:\n",
    "\n",
    "a) print out the number of letters in the word. (*)\n",
    "\n",
    "b) print out the number of uppercase and lowercase letters of the word (*)"
   ]
  },
  {
   "cell_type": "code",
   "execution_count": 18,
   "id": "1d9ca8c0",
   "metadata": {},
   "outputs": [
    {
     "name": "stdout",
     "output_type": "stream",
     "text": [
      "Your word is BOY. There is 3 letters in the word\n",
      "There is 3 uppercase letters in the word\n",
      "There is 0 lowercase letters in the word\n"
     ]
    }
   ],
   "source": [
    "word= input(\"type any word\")\n",
    "number_letters=len(word)\n",
    "print(f\"Your word is {word}. There is {number_letters} letters in the word\")\n",
    "\n",
    "list_upper_letters =[]\n",
    "for letter in word:\n",
    "    if letter.isupper():\n",
    "        list_upper_letters.append(letter)\n",
    "number_upper_letters = len(list_upper_letters)\n",
    "number_lower_letters = number_letters - number_upper_letters\n",
    "print(f\"There is {number_upper_letters} uppercase letters in the word\")\n",
    "print(f\"There is {number_lower_letters} lowercase letters in the word\")"
   ]
  },
  {
   "cell_type": "markdown",
   "id": "482ef4dc",
   "metadata": {},
   "source": [
    "2. Palindrome (*)\n",
    "Let the user input a sequence of characters and check if it is a palindrome. (*)"
   ]
  },
  {
   "cell_type": "code",
   "execution_count": null,
   "id": "29b1c673",
   "metadata": {},
   "outputs": [],
   "source": []
  }
 ],
 "metadata": {
  "kernelspec": {
   "display_name": "Python 3",
   "language": "python",
   "name": "python3"
  },
  "language_info": {
   "codemirror_mode": {
    "name": "ipython",
    "version": 3
   },
   "file_extension": ".py",
   "mimetype": "text/x-python",
   "name": "python",
   "nbconvert_exporter": "python",
   "pygments_lexer": "ipython3",
   "version": "3.12.10"
  }
 },
 "nbformat": 4,
 "nbformat_minor": 5
}
