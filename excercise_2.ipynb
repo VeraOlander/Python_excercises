{
 "cells": [
  {
   "cell_type": "markdown",
   "id": "fed86f55",
   "metadata": {},
   "source": [
    "## 0. Check sign (\\*)\n",
    "\n",
    "Ask the user to input a number and check if this number is **positive**, **negative** or **zero** and print it out."
   ]
  },
  {
   "cell_type": "code",
   "execution_count": 6,
   "id": "352d5373",
   "metadata": {},
   "outputs": [
    {
     "name": "stdout",
     "output_type": "stream",
     "text": [
      "your number 9 is positive\n"
     ]
    }
   ],
   "source": [
    "number=int(input(\"any number\"))\n",
    "if number < 0:\n",
    "    print (f\"your number {number} is negative\")\n",
    "if number == 0:\n",
    "    print (f\"your number is zero\")\n",
    "if number > 0:\n",
    "    print (f\"your number {number} is positive\")\n",
    "\n"
   ]
  },
  {
   "cell_type": "markdown",
   "id": "e8bfc2f0",
   "metadata": {},
   "source": [
    "## 4. Luggage size (\\*)\n",
    "\n",
    "The maximum allowed luggage size for boarding an airplane is:\n",
    "\n",
    "- weight: 8kg\n",
    "- dimensions: 55x40x23cm (length x width x height)\n",
    "\n",
    "Let the user input weight, length, width and height of the luggage. The program should check if the luggage is allowed or not.\n"
   ]
  },
  {
   "cell_type": "code",
   "execution_count": 11,
   "id": "c921f577",
   "metadata": {},
   "outputs": [
    {
     "name": "stdout",
     "output_type": "stream",
     "text": [
      "not allowed\n"
     ]
    }
   ],
   "source": [
    "weight=int(input(\"weight\"))\n",
    "if weight > 8:\n",
    "    print (\"not allowed\")\n",
    "else:\n",
    "    length=int(input(\"length\"))    \n",
    "    if length > 55:\n",
    "        print (\"not allowed\")\n",
    "    else:\n",
    "        width=int(input(\"width\"))\n",
    "        if width > 40:\n",
    "            print (\"not allowed\")\n",
    "        else:\n",
    "            height=int(input(\"height\"))\n",
    "            if height > 23:\n",
    "                print (\"not allowed\")\n",
    "            else:\n",
    "                print (\"congrats! you can take it onboard\")"
   ]
  },
  {
   "cell_type": "code",
   "execution_count": null,
   "id": "c0bc4854",
   "metadata": {},
   "outputs": [
    {
     "name": "stdout",
     "output_type": "stream",
     "text": [
      "36893488147419103230\n"
     ]
    }
   ],
   "source": [
    "# rice on chessboard\n",
    "i = 1\n",
    "sum_= 0\n",
    "for x in range(1,9):\n",
    "    for y in range(1,9):\n",
    "        i *= 2\n",
    "        sum_ += i\n",
    "\n",
    "print(sum_)"
   ]
  },
  {
   "cell_type": "code",
   "execution_count": 1,
   "id": "ee2b48f7",
   "metadata": {},
   "outputs": [
    {
     "name": "stdout",
     "output_type": "stream",
     "text": [
      "-10\n",
      "-9\n",
      "-8\n",
      "-7\n",
      "-6\n",
      "-5\n",
      "-4\n",
      "-3\n",
      "-2\n",
      "-1\n",
      "0\n",
      "1\n",
      "2\n",
      "3\n",
      "4\n",
      "5\n",
      "6\n",
      "7\n",
      "8\n",
      "9\n",
      "10\n",
      "-10\n",
      "-7\n",
      "-4\n",
      "-1\n",
      "2\n",
      "5\n",
      "8\n"
     ]
    }
   ],
   "source": [
    "# 5. Count numbers (*)\n",
    "# Use a for statement to count from:\n",
    "# a)   -10 to 10 with one increment (*)\n",
    "# b)   -10 to 10 with two increment (*)\n",
    "\n",
    "for i in range(-10, 11):\n",
    "    print(i)\n",
    "\n",
    "\n",
    "for x in range(-10, 11, 3):\n",
    "    print(x)"
   ]
  },
  {
   "cell_type": "code",
   "execution_count": 9,
   "id": "6cb124b7",
   "metadata": {},
   "outputs": [
    {
     "name": "stdout",
     "output_type": "stream",
     "text": [
      "even\n",
      "not divisible by 5\n",
      "odd and divisible by 5\n"
     ]
    }
   ],
   "source": [
    "#3. Divisible (*)\n",
    "#Let the user input a number. Check if the number is:\n",
    "#even or odd\n",
    "#is divisible by 5\n",
    "#is divisble by 5 and odd\n",
    "\n",
    "number2 = float(input(\"number?\"))\n",
    "if number2 % 2==0:\n",
    "    print(\"even\")\n",
    "else:\n",
    "    print(\"odd\")    \n",
    "\n",
    "if number2 % 5==0:\n",
    "    print(\"divisible by 5\")\n",
    "else:\n",
    "    print(\"not divisible by 5\")    \n",
    "\n",
    "if True:\n",
    "    number2 % 2!=0 and number2 % 5==0\n",
    "    print(\"odd and divisible by 5\")\n",
    "else:\n",
    "    print(\"even and/or not divisible by 5\")    "
   ]
  },
  {
   "cell_type": "markdown",
   "id": "b592cd69",
   "metadata": {},
   "source": [
    "5. Arithmetic sum (*)\n",
    "Use a while statement to compute the following sums:\n",
    "\n",
    "a)   \n",
    "sum\n",
    "=\n",
    "1\n",
    "+\n",
    "2\n",
    "+\n",
    "…\n",
    "+\n",
    "99\n",
    "+\n",
    "100\n",
    "\n",
    "b)   \n",
    "sum\n",
    "=\n",
    "1\n",
    "+\n",
    "3\n",
    "+\n",
    "5\n",
    "+\n",
    "…\n",
    "+\n",
    "97\n",
    "+\n",
    "99\n",
    "\n",
    "Repeat these using a for statement"
   ]
  },
  {
   "cell_type": "code",
   "execution_count": null,
   "id": "30e7b1f8",
   "metadata": {},
   "outputs": [
    {
     "name": "stdout",
     "output_type": "stream",
     "text": [
      "5050\n"
     ]
    }
   ],
   "source": [
    "# while loop\n",
    "# a)\n",
    "\n",
    "i=1\n",
    "sum=0\n",
    "while i<=100:\n",
    "    sum+=i\n",
    "    i+=1\n",
    "    \n",
    "print(sum)\n",
    "    \n"
   ]
  },
  {
   "cell_type": "code",
   "execution_count": 11,
   "id": "d6981ecd",
   "metadata": {},
   "outputs": [
    {
     "name": "stdout",
     "output_type": "stream",
     "text": [
      "5050\n"
     ]
    }
   ],
   "source": [
    "# for loop\n",
    "# a)\n",
    "\n",
    "x=1\n",
    "sum_for=0\n",
    "for x in range (1,101):\n",
    "    sum_for+=x\n",
    "    x+=1\n",
    "    \n",
    "print(sum_for)\n",
    "    "
   ]
  },
  {
   "cell_type": "code",
   "execution_count": null,
   "id": "f61c1801",
   "metadata": {},
   "outputs": [
    {
     "name": "stdout",
     "output_type": "stream",
     "text": [
      "2500\n"
     ]
    }
   ],
   "source": [
    "# while loop\n",
    "# b)\n",
    "a=1\n",
    "sum_a=0\n",
    "while a<=100:\n",
    "    sum_a+=a\n",
    "    a+=2\n",
    "    \n",
    "print(sum_a)\n",
    "    "
   ]
  },
  {
   "cell_type": "code",
   "execution_count": 8,
   "id": "bbfbd0fe",
   "metadata": {},
   "outputs": [
    {
     "name": "stdout",
     "output_type": "stream",
     "text": [
      "2500\n"
     ]
    }
   ],
   "source": [
    "# for loop\n",
    "# b)\n",
    "b=1\n",
    "sum_b=0\n",
    "for b in range(1,100,2):\n",
    "    sum_b+=b\n",
    "    b+=2\n",
    "    \n",
    "print(sum_b)"
   ]
  },
  {
   "cell_type": "markdown",
   "id": "4d235788",
   "metadata": {},
   "source": [
    "6. Multiplication game (*)\n",
    "a) Create a multiplication game following this flow chart:"
   ]
  },
  {
   "cell_type": "code",
   "execution_count": 3,
   "id": "80074281",
   "metadata": {},
   "outputs": [
    {
     "name": "stdout",
     "output_type": "stream",
     "text": [
      "x=5 and y=4\n",
      "Good work!\n",
      "x=6 and y=2\n",
      "Good work!\n",
      "x=1 and y=9\n",
      "your answer 10 is incorrect\n",
      "bye!\n"
     ]
    }
   ],
   "source": [
    "import random as rnd\n",
    "while True:\n",
    "    x=rnd.randint(1,10)\n",
    "    y=rnd.randint(1,10)\n",
    "    print(f\"x={x} and y={y}\")\n",
    "    multiplication=int(input(\"what is x*y?\"))\n",
    "\n",
    "    if multiplication==x*y:\n",
    "        print(\"Good work!\")\n",
    "    else:\n",
    "        print(f\"your answer {multiplication} is incorrect\")\n",
    "\n",
    "    play_again=input(\"Do you want to play again? y/n\")\n",
    "    if play_again!=\"y\":\n",
    "        print(\"bye!\")\n",
    "        break\n"
   ]
  },
  {
   "cell_type": "markdown",
   "id": "31d1bd83",
   "metadata": {},
   "source": [
    "7. Multiplication table (*)\n",
    "Use for statement(s) to:\n",
    "\n",
    "  a)   print out the 6th multiplication table from 0 to 10 (*)\n",
    "\n",
    "  b)   let the user input the table, start and end of the table. (*)\n",
    "\n",
    "  c)   print out a full multiplication table from 0 to 10. (**)\n",
    "\n",
    "Hint: Use nested for-loops, which means a for-loop in a for-loop. To format the table nicely, use f-string:\n",
    "\n",
    "print(f\"{number :4}\", end = \"\")"
   ]
  },
  {
   "cell_type": "code",
   "execution_count": 18,
   "id": "382dc2c7",
   "metadata": {},
   "outputs": [
    {
     "name": "stdout",
     "output_type": "stream",
     "text": [
      "0 X 6 = 0\n",
      "1 X 6 = 6\n",
      "2 X 6 = 12\n",
      "3 X 6 = 18\n",
      "4 X 6 = 24\n",
      "5 X 6 = 30\n",
      "6 X 6 = 36\n",
      "7 X 6 = 42\n",
      "8 X 6 = 48\n",
      "9 X 6 = 54\n",
      "10 X 6 = 60\n"
     ]
    }
   ],
   "source": [
    "#a)\n",
    "for x in range(0,11):\n",
    "    number=x*6\n",
    "    print(f\"{x} X 6 = {number}\")\n",
    "    "
   ]
  },
  {
   "cell_type": "code",
   "execution_count": 22,
   "id": "08d57c01",
   "metadata": {},
   "outputs": [
    {
     "name": "stdout",
     "output_type": "stream",
     "text": [
      "3 X 8 = 24\n",
      "4 X 8 = 32\n",
      "5 X 8 = 40\n",
      "6 X 8 = 48\n",
      "7 X 8 = 56\n",
      "8 X 8 = 64\n",
      "9 X 8 = 72\n"
     ]
    }
   ],
   "source": [
    "#b)\n",
    "chosen_number=int(input(\"chosen_number\"))\n",
    "start=int(input(\"start\"))\n",
    "end=int(input(\"end\"))\n",
    "for x in range(start,end+1):\n",
    "    result=x*chosen_number\n",
    "    print(f\"{x} X {chosen_number} = {result}\")"
   ]
  },
  {
   "cell_type": "code",
   "execution_count": 26,
   "id": "4610c58d",
   "metadata": {},
   "outputs": [
    {
     "name": "stdout",
     "output_type": "stream",
     "text": [
      "0\t0\t0\t0\t0\t0\t0\t0\t0\t0\t0\t\n",
      "0\t1\t2\t3\t4\t5\t6\t7\t8\t9\t10\t\n",
      "0\t2\t4\t6\t8\t10\t12\t14\t16\t18\t20\t\n",
      "0\t3\t6\t9\t12\t15\t18\t21\t24\t27\t30\t\n",
      "0\t4\t8\t12\t16\t20\t24\t28\t32\t36\t40\t\n",
      "0\t5\t10\t15\t20\t25\t30\t35\t40\t45\t50\t\n",
      "0\t6\t12\t18\t24\t30\t36\t42\t48\t54\t60\t\n",
      "0\t7\t14\t21\t28\t35\t42\t49\t56\t63\t70\t\n",
      "0\t8\t16\t24\t32\t40\t48\t56\t64\t72\t80\t\n",
      "0\t9\t18\t27\t36\t45\t54\t63\t72\t81\t90\t\n",
      "0\t10\t20\t30\t40\t50\t60\t70\t80\t90\t100\t\n"
     ]
    }
   ],
   "source": [
    "#c)\n",
    "for x in range(0,11):\n",
    "    for y in range(0,11):\n",
    "        number=x*y\n",
    "        print(number, end = \"\\t\")\n",
    "    print()\n",
    "\n",
    "\n",
    "        "
   ]
  },
  {
   "cell_type": "code",
   "execution_count": 28,
   "id": "0f348541",
   "metadata": {},
   "outputs": [
    {
     "name": "stdout",
     "output_type": "stream",
     "text": [
      "   0   0   0   0   0   0   0   0   0   0   0\n",
      "   0   1   2   3   4   5   6   7   8   9  10\n",
      "   0   2   4   6   8  10  12  14  16  18  20\n",
      "   0   3   6   9  12  15  18  21  24  27  30\n",
      "   0   4   8  12  16  20  24  28  32  36  40\n",
      "   0   5  10  15  20  25  30  35  40  45  50\n",
      "   0   6  12  18  24  30  36  42  48  54  60\n",
      "   0   7  14  21  28  35  42  49  56  63  70\n",
      "   0   8  16  24  32  40  48  56  64  72  80\n",
      "   0   9  18  27  36  45  54  63  72  81  90\n",
      "   0  10  20  30  40  50  60  70  80  90 100\n"
     ]
    }
   ],
   "source": [
    "#c)\n",
    "for x in range(0,11):\n",
    "    for y in range(0,11):\n",
    "        number=x*y\n",
    "        print(f\"{number :4}\", end = \"\")\n",
    "    print()"
   ]
  },
  {
   "cell_type": "markdown",
   "id": "985eab55",
   "metadata": {},
   "source": [
    "9. Check convergence (**)\n",
    "Use a while statement to compute the following sums:\n",
    "\n",
    "a)   \n",
    "sum\n",
    "=\n",
    "1\n",
    "+\n",
    "1\n",
    "2\n",
    "+\n",
    "1\n",
    "4\n",
    "+\n",
    "1\n",
    "8\n",
    "+\n",
    "⋯\n",
    "+\n",
    "1\n",
    "2\n",
    "n\n",
    "\n",
    "b)   \n",
    "sum\n",
    "=\n",
    "1\n",
    "−\n",
    "1\n",
    "3\n",
    "+\n",
    "1\n",
    "5\n",
    "−\n",
    "1\n",
    "7\n",
    "+\n",
    "⋯\n",
    "+\n",
    "(\n",
    "−\n",
    "1\n",
    ")\n",
    "n\n",
    "2\n",
    "n\n",
    "+\n",
    "1\n",
    "\n",
    "Try different values on \n",
    "n\n",
    " to see which value it converges to.\n",
    "\n",
    "Repeat these using a for statement"
   ]
  },
  {
   "cell_type": "code",
   "execution_count": 22,
   "id": "628e6d5a",
   "metadata": {},
   "outputs": [
    {
     "name": "stdout",
     "output_type": "stream",
     "text": [
      "1.0\n",
      "0.5\n",
      "0.25\n",
      "0.125\n",
      "0.0625\n",
      "0.03125\n",
      "1.96875\n"
     ]
    }
   ],
   "source": [
    "# while loop \n",
    "# a)\n",
    "n=0\n",
    "i=1\n",
    "z=1\n",
    "sum=0\n",
    "while n<=5:   \n",
    "    z=i/(2**n)\n",
    "    n+=1\n",
    "    sum+=z\n",
    "    \n",
    "    print(z)\n",
    "\n",
    "print(sum)"
   ]
  },
  {
   "cell_type": "code",
   "execution_count": 24,
   "id": "5c5e563c",
   "metadata": {},
   "outputs": [
    {
     "name": "stdout",
     "output_type": "stream",
     "text": [
      "1.0\n",
      "0.5\n",
      "0.25\n",
      "0.125\n",
      "0.0625\n",
      "0.03125\n",
      "1.96875\n"
     ]
    }
   ],
   "source": [
    "# for loop \n",
    "# a)\n",
    "i=1\n",
    "z=1\n",
    "sum=0\n",
    "for n in range(6):   \n",
    "    z=i/(2**n)\n",
    "    n+=1\n",
    "    sum+=z\n",
    "    \n",
    "    print(z)\n",
    "\n",
    "print(sum)"
   ]
  },
  {
   "cell_type": "code",
   "execution_count": 27,
   "id": "2c74a1ba",
   "metadata": {},
   "outputs": [
    {
     "name": "stdout",
     "output_type": "stream",
     "text": [
      "1.0\n",
      "-0.3333333333333333\n",
      "0.2\n",
      "-0.14285714285714285\n",
      "0.1111111111111111\n",
      "-0.09090909090909091\n",
      "0.07692307692307693\n",
      "0.8209346209346211\n"
     ]
    }
   ],
   "source": [
    "# while loop \n",
    "# b)\n",
    "n=0\n",
    "i=-1\n",
    "z=1\n",
    "sum=0\n",
    "while n<=6:   \n",
    "    z=i**n/(2*n+1)\n",
    "    n+=1\n",
    "    sum+=z\n",
    "    \n",
    "    print(z)\n",
    "\n",
    "print(sum)"
   ]
  },
  {
   "cell_type": "code",
   "execution_count": 28,
   "id": "634a4250",
   "metadata": {},
   "outputs": [
    {
     "name": "stdout",
     "output_type": "stream",
     "text": [
      "1.0\n",
      "-0.3333333333333333\n",
      "0.2\n",
      "-0.14285714285714285\n",
      "0.1111111111111111\n",
      "-0.09090909090909091\n",
      "0.07692307692307693\n",
      "0.8209346209346211\n"
     ]
    }
   ],
   "source": [
    "# for loop \n",
    "# b)\n",
    "n=0\n",
    "i=-1\n",
    "z=1\n",
    "sum=0\n",
    "for n in range(7):   \n",
    "    z=i**n/(2*n+1)\n",
    "    n+=1\n",
    "    sum+=z\n",
    "    \n",
    "    print(z)\n",
    "\n",
    "print(sum)"
   ]
  }
 ],
 "metadata": {
  "kernelspec": {
   "display_name": "Python 3",
   "language": "python",
   "name": "python3"
  },
  "language_info": {
   "codemirror_mode": {
    "name": "ipython",
    "version": 3
   },
   "file_extension": ".py",
   "mimetype": "text/x-python",
   "name": "python",
   "nbconvert_exporter": "python",
   "pygments_lexer": "ipython3",
   "version": "3.12.10"
  }
 },
 "nbformat": 4,
 "nbformat_minor": 5
}
