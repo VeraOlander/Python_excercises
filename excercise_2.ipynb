{
 "cells": [
  {
   "cell_type": "markdown",
   "id": "fed86f55",
   "metadata": {},
   "source": [
    "## 0. Check sign (\\*)\n",
    "\n",
    "Ask the user to input a number and check if this number is **positive**, **negative** or **zero** and print it out."
   ]
  },
  {
   "cell_type": "code",
   "execution_count": 6,
   "id": "352d5373",
   "metadata": {},
   "outputs": [
    {
     "name": "stdout",
     "output_type": "stream",
     "text": [
      "your number 9 is positive\n"
     ]
    }
   ],
   "source": [
    "number=int(input(\"any number\"))\n",
    "if number < 0:\n",
    "    print (f\"your number {number} is negative\")\n",
    "if number == 0:\n",
    "    print (f\"your number is zero\")\n",
    "if number > 0:\n",
    "    print (f\"your number {number} is positive\")\n",
    "\n"
   ]
  },
  {
   "cell_type": "markdown",
   "id": "e8bfc2f0",
   "metadata": {},
   "source": [
    "## 4. Luggage size (\\*)\n",
    "\n",
    "The maximum allowed luggage size for boarding an airplane is:\n",
    "\n",
    "- weight: 8kg\n",
    "- dimensions: 55x40x23cm (length x width x height)\n",
    "\n",
    "Let the user input weight, length, width and height of the luggage. The program should check if the luggage is allowed or not.\n"
   ]
  },
  {
   "cell_type": "code",
   "execution_count": 11,
   "id": "c921f577",
   "metadata": {},
   "outputs": [
    {
     "name": "stdout",
     "output_type": "stream",
     "text": [
      "not allowed\n"
     ]
    }
   ],
   "source": [
    "weight=int(input(\"weight\"))\n",
    "if weight > 8:\n",
    "    print (\"not allowed\")\n",
    "else:\n",
    "    length=int(input(\"length\"))    \n",
    "    if length > 55:\n",
    "        print (\"not allowed\")\n",
    "    else:\n",
    "        width=int(input(\"width\"))\n",
    "        if width > 40:\n",
    "            print (\"not allowed\")\n",
    "        else:\n",
    "            height=int(input(\"height\"))\n",
    "            if height > 23:\n",
    "                print (\"not allowed\")\n",
    "            else:\n",
    "                print (\"congrats! you can take it onboard\")"
   ]
  },
  {
   "cell_type": "code",
   "execution_count": null,
   "id": "c0bc4854",
   "metadata": {},
   "outputs": [
    {
     "name": "stdout",
     "output_type": "stream",
     "text": [
      "36893488147419103230\n"
     ]
    }
   ],
   "source": [
    "# rice on chessboard\n",
    "i = 1\n",
    "sum_= 0\n",
    "for x in range(1,9):\n",
    "    for y in range(1,9):\n",
    "        i *= 2\n",
    "        sum_ += i\n",
    "\n",
    "print(sum_)"
   ]
  },
  {
   "cell_type": "code",
   "execution_count": 6,
   "id": "ee2b48f7",
   "metadata": {},
   "outputs": [
    {
     "name": "stdout",
     "output_type": "stream",
     "text": [
      "-10\n",
      "-9\n",
      "-8\n",
      "-7\n",
      "-6\n",
      "-5\n",
      "-4\n",
      "-3\n",
      "-2\n",
      "-1\n",
      "0\n",
      "1\n",
      "2\n",
      "3\n",
      "4\n",
      "5\n",
      "6\n",
      "7\n",
      "8\n",
      "9\n",
      "10\n",
      "-10\n",
      "-8\n",
      "-6\n",
      "-4\n",
      "-2\n",
      "0\n",
      "2\n",
      "4\n",
      "6\n",
      "8\n",
      "10\n"
     ]
    }
   ],
   "source": [
    "# 5. Count numbers (*)\n",
    "# Use a for statement to count from:\n",
    "# a)   -10 to 10 with one increment (*)\n",
    "# b)   -10 to 10 with two increment (*)\n",
    "\n",
    "for i in range(-10, 11):\n",
    "    print(i)\n",
    "\n",
    "\n",
    "for x in range(-10, 11, 2):\n",
    "    print(x)"
   ]
  },
  {
   "cell_type": "code",
   "execution_count": 9,
   "id": "6cb124b7",
   "metadata": {},
   "outputs": [
    {
     "name": "stdout",
     "output_type": "stream",
     "text": [
      "even\n",
      "not divisible by 5\n",
      "odd and divisible by 5\n"
     ]
    }
   ],
   "source": [
    "#3. Divisible (*)\n",
    "#Let the user input a number. Check if the number is:\n",
    "#even or odd\n",
    "#is divisible by 5\n",
    "#is divisble by 5 and odd\n",
    "\n",
    "number2 = float(input(\"number?\"))\n",
    "if number2 % 2==0:\n",
    "    print(\"even\")\n",
    "else:\n",
    "    print(\"odd\")    \n",
    "\n",
    "if number2 % 5==0:\n",
    "    print(\"divisible by 5\")\n",
    "else:\n",
    "    print(\"not divisible by 5\")    \n",
    "\n",
    "if True:\n",
    "    number2 % 2!=0 and number2 % 5==0\n",
    "    print(\"odd and divisible by 5\")\n",
    "else:\n",
    "    print(\"even and/or not divisible by 5\")    "
   ]
  }
 ],
 "metadata": {
  "kernelspec": {
   "display_name": "Python 3",
   "language": "python",
   "name": "python3"
  },
  "language_info": {
   "codemirror_mode": {
    "name": "ipython",
    "version": 3
   },
   "file_extension": ".py",
   "mimetype": "text/x-python",
   "name": "python",
   "nbconvert_exporter": "python",
   "pygments_lexer": "ipython3",
   "version": "3.12.10"
  }
 },
 "nbformat": 4,
 "nbformat_minor": 5
}
