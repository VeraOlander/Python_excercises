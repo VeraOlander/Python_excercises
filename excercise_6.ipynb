{
 "cells": [
  {
   "cell_type": "markdown",
   "id": "d8876b66",
   "metadata": {},
   "source": [
    "0. Unit conversion (*)\n",
    "Create a class for converting US units to the metric system. It should have the following bound methods:\n",
    "\n",
    "__init__ (self, value)\n",
    "\n",
    "inch_to_cm(self)\n",
    "\n",
    "foot_to_meters(self)\n",
    "\n",
    "pound_to_kg(self)\n",
    "\n",
    "__repr__(self)\n",
    "Make sure that value is the correct type and format, raise suitable exceptions in case it isn't. Make value into property with getter and setter. Test your class manually by instantiating an object from it and test different methods. (*)"
   ]
  },
  {
   "cell_type": "code",
   "execution_count": 28,
   "id": "0c8df6d8",
   "metadata": {},
   "outputs": [],
   "source": [
    "from numbers import Number\n",
    "# refactoring\n",
    "from utils import validate_positive_number\n",
    "\n",
    "class UnitConverter:\n",
    "    def __init__(self,value: int or float): # or type self,value: int | float\n",
    "        self.value=value\n",
    "        \n",
    "    @property\n",
    "    def value(self):\n",
    "        return self._value\n",
    "    \n",
    "    @value.setter\n",
    "    def value(self, new_value):    # possible with new_value or just value as before - both are ok\n",
    "        # validation code:\n",
    "        validate_positive_number(new_value)\n",
    "        self._value=new_value\n",
    "       \n",
    "    def __repr__(self):\n",
    "        return f\"The object's given measure is {self.value}\"\n",
    "    \n",
    "    def inch_to_cm(self):\n",
    "        return f\"The object's length in cm = {self.value*2.54}\"\n",
    "    \n",
    "    def foot_to_meters(self):\n",
    "        return f\"The object's length in m = {self.value*0.3048}\"\n",
    "    \n",
    "    def pound_to_kg(self):\n",
    "        return f\"The object's weight in kg = {self.value*0.453592}\"\n",
    "\n",
    "\n"
   ]
  },
  {
   "cell_type": "code",
   "execution_count": 29,
   "id": "d30abd47",
   "metadata": {},
   "outputs": [
    {
     "name": "stdout",
     "output_type": "stream",
     "text": [
      "unit_converter.value=5\n"
     ]
    }
   ],
   "source": [
    "unit_converter=UnitConverter(5)\n",
    "# shortcut to get this output: unit_converter.value=5\n",
    "print(f\"{unit_converter.value=}\")\n"
   ]
  },
  {
   "cell_type": "code",
   "execution_count": 146,
   "id": "6da31d87",
   "metadata": {},
   "outputs": [
    {
     "data": {
      "text/plain": [
       "\"The object's length in cm = 12.7\""
      ]
     },
     "execution_count": 146,
     "metadata": {},
     "output_type": "execute_result"
    }
   ],
   "source": [
    "unit_converter.inch_to_cm()"
   ]
  },
  {
   "cell_type": "code",
   "execution_count": 149,
   "id": "4b80bea1",
   "metadata": {},
   "outputs": [
    {
     "data": {
      "text/plain": [
       "\"The object's length in m = 1.524\""
      ]
     },
     "execution_count": 149,
     "metadata": {},
     "output_type": "execute_result"
    }
   ],
   "source": [
    "unit_converter.foot_to_meters()"
   ]
  },
  {
   "cell_type": "code",
   "execution_count": 150,
   "id": "d862347b",
   "metadata": {},
   "outputs": [
    {
     "data": {
      "text/plain": [
       "\"The object's weight in kg = 2.26796\""
      ]
     },
     "execution_count": 150,
     "metadata": {},
     "output_type": "execute_result"
    }
   ],
   "source": [
    "unit_converter.pound_to_kg()"
   ]
  },
  {
   "cell_type": "code",
   "execution_count": 30,
   "id": "950c46d3",
   "metadata": {},
   "outputs": [
    {
     "data": {
      "text/plain": [
       "The object's given measure is 2"
      ]
     },
     "execution_count": 30,
     "metadata": {},
     "output_type": "execute_result"
    }
   ],
   "source": [
    "thing=UnitConverter(2)\n",
    "thing"
   ]
  },
  {
   "cell_type": "code",
   "execution_count": 38,
   "id": "e25158e9",
   "metadata": {},
   "outputs": [
    {
     "data": {
      "text/plain": [
       "\"The object's length in m = 0.6096\""
      ]
     },
     "execution_count": 38,
     "metadata": {},
     "output_type": "execute_result"
    }
   ],
   "source": [
    "thing.foot_to_meters()"
   ]
  },
  {
   "cell_type": "code",
   "execution_count": 31,
   "id": "e99bfceb",
   "metadata": {},
   "outputs": [
    {
     "ename": "ValueError",
     "evalue": "Value cannot be negative/zero as -5",
     "output_type": "error",
     "traceback": [
      "\u001b[31m---------------------------------------------------------------------------\u001b[39m",
      "\u001b[31mValueError\u001b[39m                                Traceback (most recent call last)",
      "\u001b[36mCell\u001b[39m\u001b[36m \u001b[39m\u001b[32mIn[31]\u001b[39m\u001b[32m, line 1\u001b[39m\n\u001b[32m----> \u001b[39m\u001b[32m1\u001b[39m a_weird_thing=\u001b[43mUnitConverter\u001b[49m\u001b[43m(\u001b[49m\u001b[43m-\u001b[49m\u001b[32;43m5\u001b[39;49m\u001b[43m)\u001b[49m\n",
      "\u001b[36mCell\u001b[39m\u001b[36m \u001b[39m\u001b[32mIn[28]\u001b[39m\u001b[32m, line 7\u001b[39m, in \u001b[36mUnitConverter.__init__\u001b[39m\u001b[34m(self, value)\u001b[39m\n\u001b[32m      6\u001b[39m \u001b[38;5;28;01mdef\u001b[39;00m\u001b[38;5;250m \u001b[39m\u001b[34m__init__\u001b[39m(\u001b[38;5;28mself\u001b[39m,value: \u001b[38;5;28mint\u001b[39m \u001b[38;5;129;01mor\u001b[39;00m \u001b[38;5;28mfloat\u001b[39m): \u001b[38;5;66;03m# or type self,value: int | float\u001b[39;00m\n\u001b[32m----> \u001b[39m\u001b[32m7\u001b[39m     \u001b[38;5;28;43mself\u001b[39;49m\u001b[43m.\u001b[49m\u001b[43mvalue\u001b[49m=value\n",
      "\u001b[36mCell\u001b[39m\u001b[36m \u001b[39m\u001b[32mIn[28]\u001b[39m\u001b[32m, line 16\u001b[39m, in \u001b[36mUnitConverter.value\u001b[39m\u001b[34m(self, new_value)\u001b[39m\n\u001b[32m     13\u001b[39m \u001b[38;5;129m@value\u001b[39m.setter\n\u001b[32m     14\u001b[39m \u001b[38;5;28;01mdef\u001b[39;00m\u001b[38;5;250m \u001b[39m\u001b[34mvalue\u001b[39m(\u001b[38;5;28mself\u001b[39m, new_value):    \u001b[38;5;66;03m# possible with new_value or just value as before - both are ok\u001b[39;00m\n\u001b[32m     15\u001b[39m     \u001b[38;5;66;03m# validation code:\u001b[39;00m\n\u001b[32m---> \u001b[39m\u001b[32m16\u001b[39m     \u001b[43mvalidate_positive_number\u001b[49m\u001b[43m(\u001b[49m\u001b[43mnew_value\u001b[49m\u001b[43m)\u001b[49m\n\u001b[32m     17\u001b[39m     \u001b[38;5;28mself\u001b[39m._value=new_value\n",
      "\u001b[36mFile \u001b[39m\u001b[32mc:\\Users\\Dell\\Documents\\GitHub\\Python_excercises\\utils.py:9\u001b[39m, in \u001b[36mvalidate_positive_number\u001b[39m\u001b[34m(value)\u001b[39m\n\u001b[32m      7\u001b[39m     \u001b[38;5;28;01mraise\u001b[39;00m \u001b[38;5;167;01mTypeError\u001b[39;00m(\u001b[33mf\u001b[39m\u001b[33m\"\u001b[39m\u001b[33mValue must be a number not \u001b[39m\u001b[38;5;132;01m{\u001b[39;00m\u001b[38;5;28mtype\u001b[39m(value)\u001b[38;5;132;01m}\u001b[39;00m\u001b[33m.\u001b[39m\u001b[33m\"\u001b[39m) \u001b[38;5;66;03m# chat gpt\u001b[39;00m\n\u001b[32m      8\u001b[39m \u001b[38;5;28;01mif\u001b[39;00m value<=\u001b[32m0\u001b[39m:\n\u001b[32m----> \u001b[39m\u001b[32m9\u001b[39m     \u001b[38;5;28;01mraise\u001b[39;00m \u001b[38;5;167;01mValueError\u001b[39;00m(\u001b[33mf\u001b[39m\u001b[33m\"\u001b[39m\u001b[33mValue cannot be negative/zero as \u001b[39m\u001b[38;5;132;01m{\u001b[39;00mvalue\u001b[38;5;132;01m}\u001b[39;00m\u001b[33m\"\u001b[39m)\n",
      "\u001b[31mValueError\u001b[39m: Value cannot be negative/zero as -5"
     ]
    }
   ],
   "source": [
    "a_weird_thing=UnitConverter(-5)"
   ]
  },
  {
   "cell_type": "code",
   "execution_count": 32,
   "id": "52cc6d15",
   "metadata": {},
   "outputs": [
    {
     "name": "stdout",
     "output_type": "stream",
     "text": [
      "The object's given measure is 50\n"
     ]
    }
   ],
   "source": [
    "object=UnitConverter(50)\n",
    "print(object)"
   ]
  },
  {
   "cell_type": "code",
   "execution_count": 33,
   "id": "9f2b548c",
   "metadata": {},
   "outputs": [
    {
     "data": {
      "text/plain": [
       "The object's given measure is 60"
      ]
     },
     "execution_count": 33,
     "metadata": {},
     "output_type": "execute_result"
    }
   ],
   "source": [
    "object.value=60\n",
    "object"
   ]
  },
  {
   "cell_type": "code",
   "execution_count": 34,
   "id": "eb13240a",
   "metadata": {},
   "outputs": [
    {
     "ename": "ValueError",
     "evalue": "Value cannot be negative/zero as -60",
     "output_type": "error",
     "traceback": [
      "\u001b[31m---------------------------------------------------------------------------\u001b[39m",
      "\u001b[31mValueError\u001b[39m                                Traceback (most recent call last)",
      "\u001b[36mCell\u001b[39m\u001b[36m \u001b[39m\u001b[32mIn[34]\u001b[39m\u001b[32m, line 1\u001b[39m\n\u001b[32m----> \u001b[39m\u001b[32m1\u001b[39m \u001b[38;5;28;43mobject\u001b[39;49m\u001b[43m.\u001b[49m\u001b[43mvalue\u001b[49m=-\u001b[32m60\u001b[39m\n\u001b[32m      2\u001b[39m \u001b[38;5;28mobject\u001b[39m\n",
      "\u001b[36mCell\u001b[39m\u001b[36m \u001b[39m\u001b[32mIn[28]\u001b[39m\u001b[32m, line 16\u001b[39m, in \u001b[36mUnitConverter.value\u001b[39m\u001b[34m(self, new_value)\u001b[39m\n\u001b[32m     13\u001b[39m \u001b[38;5;129m@value\u001b[39m.setter\n\u001b[32m     14\u001b[39m \u001b[38;5;28;01mdef\u001b[39;00m\u001b[38;5;250m \u001b[39m\u001b[34mvalue\u001b[39m(\u001b[38;5;28mself\u001b[39m, new_value):    \u001b[38;5;66;03m# possible with new_value or just value as before - both are ok\u001b[39;00m\n\u001b[32m     15\u001b[39m     \u001b[38;5;66;03m# validation code:\u001b[39;00m\n\u001b[32m---> \u001b[39m\u001b[32m16\u001b[39m     \u001b[43mvalidate_positive_number\u001b[49m\u001b[43m(\u001b[49m\u001b[43mnew_value\u001b[49m\u001b[43m)\u001b[49m\n\u001b[32m     17\u001b[39m     \u001b[38;5;28mself\u001b[39m._value=new_value\n",
      "\u001b[36mFile \u001b[39m\u001b[32mc:\\Users\\Dell\\Documents\\GitHub\\Python_excercises\\utils.py:9\u001b[39m, in \u001b[36mvalidate_positive_number\u001b[39m\u001b[34m(value)\u001b[39m\n\u001b[32m      7\u001b[39m     \u001b[38;5;28;01mraise\u001b[39;00m \u001b[38;5;167;01mTypeError\u001b[39;00m(\u001b[33mf\u001b[39m\u001b[33m\"\u001b[39m\u001b[33mValue must be a number not \u001b[39m\u001b[38;5;132;01m{\u001b[39;00m\u001b[38;5;28mtype\u001b[39m(value)\u001b[38;5;132;01m}\u001b[39;00m\u001b[33m.\u001b[39m\u001b[33m\"\u001b[39m) \u001b[38;5;66;03m# chat gpt\u001b[39;00m\n\u001b[32m      8\u001b[39m \u001b[38;5;28;01mif\u001b[39;00m value<=\u001b[32m0\u001b[39m:\n\u001b[32m----> \u001b[39m\u001b[32m9\u001b[39m     \u001b[38;5;28;01mraise\u001b[39;00m \u001b[38;5;167;01mValueError\u001b[39;00m(\u001b[33mf\u001b[39m\u001b[33m\"\u001b[39m\u001b[33mValue cannot be negative/zero as \u001b[39m\u001b[38;5;132;01m{\u001b[39;00mvalue\u001b[38;5;132;01m}\u001b[39;00m\u001b[33m\"\u001b[39m)\n",
      "\u001b[31mValueError\u001b[39m: Value cannot be negative/zero as -60"
     ]
    }
   ],
   "source": [
    "object.value=-60\n",
    "object"
   ]
  },
  {
   "cell_type": "code",
   "execution_count": 36,
   "id": "87a72509",
   "metadata": {},
   "outputs": [
    {
     "name": "stdout",
     "output_type": "stream",
     "text": [
      "Value must be a number not <class 'str'>.\n"
     ]
    }
   ],
   "source": [
    "try:\n",
    "    object=UnitConverter(\"-70\")\n",
    "    print(object)\n",
    "except (ValueError, TypeError) as err:\n",
    "    print(err)\n"
   ]
  },
  {
   "cell_type": "markdown",
   "id": "4a8542d4",
   "metadata": {},
   "source": [
    "1. Person (*)\n",
    "Create a class named Person, with parameterized constructor with the following parameters:\n",
    "\n",
    "name\n",
    "age\n",
    "email\n",
    "Turn name, age, email into properties with following validations in their setters:\n",
    "\n",
    "name - must be string\n",
    "age - must be number between 0 and 125\n",
    "email - must include an @ sign\n",
    "It should also have __repr__ method to represent the Person class in a neat way.\n",
    "\n",
    "Also create a method say_hello() that prints\n",
    "\n",
    "Hi, my name is ..., I am ... years old, my email address is ...\n"
   ]
  },
  {
   "cell_type": "code",
   "execution_count": 2,
   "id": "8ebb96d9",
   "metadata": {},
   "outputs": [],
   "source": [
    "class Person:\n",
    "    def __init__(self, name: str, age: int, email: str):\n",
    "        self.name=name\n",
    "        self.age=age\n",
    "        self.email=email\n",
    "\n",
    "    @property\n",
    "    def name(self):\n",
    "        return self._name\n",
    "    \n",
    "    @name.setter\n",
    "    def name(self, name):   \n",
    "        if not isinstance(name, str):\n",
    "            raise TypeError(\"Value must be a string\") \n",
    "        self._name=name\n",
    "\n",
    "    @property\n",
    "    def age(self):\n",
    "        return self._age\n",
    "    \n",
    "    @age.setter\n",
    "    def age(self, age):   \n",
    "        if not isinstance(age, int):\n",
    "            raise TypeError(\"Age must be a number\") \n",
    "        if not 0<=age<=125:\n",
    "            raise ValueError(\"Age must be between 0 and 125\") \n",
    "        self._age=age\n",
    "\n",
    "    @property\n",
    "    def email(self):\n",
    "        return self._email\n",
    "    \n",
    "    @email.setter\n",
    "    def email(self, email):   \n",
    "        if not isinstance(email, str):\n",
    "            raise TypeError(\"Email must be a string\") \n",
    "        if \"@\" not in email:\n",
    "            raise TypeError(\"Email must contain @\")         \n",
    "        self._email=email\n",
    "\n",
    "    \n",
    "\n",
    "    def __repr__(self):\n",
    "        return f\"This person's name is {self.name}, age is {self.age} years, email is {self.email}\"\n",
    "    \n",
    "    def say_hello(self):\n",
    "        print (f\"Hi, my name is {self.name}, I am {self.age} years old, my email address is {self.email}\")\n",
    "\n"
   ]
  },
  {
   "cell_type": "code",
   "execution_count": 37,
   "id": "f59495ac",
   "metadata": {},
   "outputs": [
    {
     "data": {
      "text/plain": [
       "This person's name is Vera, age is 38 years, email is bn@klk.com"
      ]
     },
     "execution_count": 37,
     "metadata": {},
     "output_type": "execute_result"
    }
   ],
   "source": [
    "person1=Person(\"Vera\",38,\"bn@klk.com\")\n",
    "person1"
   ]
  },
  {
   "cell_type": "code",
   "execution_count": 38,
   "id": "f180a4fd",
   "metadata": {},
   "outputs": [
    {
     "name": "stdout",
     "output_type": "stream",
     "text": [
      "Hi, my name is Vera, I am 38 years old, my email address is bn@klk.com\n"
     ]
    }
   ],
   "source": [
    "person1.say_hello()"
   ]
  },
  {
   "cell_type": "code",
   "execution_count": 39,
   "id": "d755f01d",
   "metadata": {},
   "outputs": [],
   "source": [
    "person2=Person(\"Fredrik\", 89,\"ik@kiy.com\")"
   ]
  },
  {
   "cell_type": "code",
   "execution_count": 40,
   "id": "5eebae6c",
   "metadata": {},
   "outputs": [
    {
     "data": {
      "text/plain": [
       "This person's name is Fredrik, age is 89 years, email is ik@kiy.com"
      ]
     },
     "execution_count": 40,
     "metadata": {},
     "output_type": "execute_result"
    }
   ],
   "source": [
    "person2"
   ]
  },
  {
   "cell_type": "code",
   "execution_count": 41,
   "id": "453a4ba7",
   "metadata": {},
   "outputs": [
    {
     "ename": "TypeError",
     "evalue": "Email must be a string",
     "output_type": "error",
     "traceback": [
      "\u001b[31m---------------------------------------------------------------------------\u001b[39m",
      "\u001b[31mTypeError\u001b[39m                                 Traceback (most recent call last)",
      "\u001b[36mCell\u001b[39m\u001b[36m \u001b[39m\u001b[32mIn[41]\u001b[39m\u001b[32m, line 1\u001b[39m\n\u001b[32m----> \u001b[39m\u001b[32m1\u001b[39m \u001b[43mperson2\u001b[49m\u001b[43m.\u001b[49m\u001b[43memail\u001b[49m=\u001b[32m6\u001b[39m\n",
      "\u001b[36mCell\u001b[39m\u001b[36m \u001b[39m\u001b[32mIn[2]\u001b[39m\u001b[32m, line 36\u001b[39m, in \u001b[36mPerson.email\u001b[39m\u001b[34m(self, email)\u001b[39m\n\u001b[32m     33\u001b[39m \u001b[38;5;129m@email\u001b[39m.setter\n\u001b[32m     34\u001b[39m \u001b[38;5;28;01mdef\u001b[39;00m\u001b[38;5;250m \u001b[39m\u001b[34memail\u001b[39m(\u001b[38;5;28mself\u001b[39m, email):   \n\u001b[32m     35\u001b[39m     \u001b[38;5;28;01mif\u001b[39;00m \u001b[38;5;129;01mnot\u001b[39;00m \u001b[38;5;28misinstance\u001b[39m(email, \u001b[38;5;28mstr\u001b[39m):\n\u001b[32m---> \u001b[39m\u001b[32m36\u001b[39m         \u001b[38;5;28;01mraise\u001b[39;00m \u001b[38;5;167;01mTypeError\u001b[39;00m(\u001b[33m\"\u001b[39m\u001b[33mEmail must be a string\u001b[39m\u001b[33m\"\u001b[39m) \n\u001b[32m     37\u001b[39m     \u001b[38;5;28;01mif\u001b[39;00m \u001b[33m\"\u001b[39m\u001b[33m@\u001b[39m\u001b[33m\"\u001b[39m \u001b[38;5;129;01mnot\u001b[39;00m \u001b[38;5;129;01min\u001b[39;00m email:\n\u001b[32m     38\u001b[39m         \u001b[38;5;28;01mraise\u001b[39;00m \u001b[38;5;167;01mTypeError\u001b[39;00m(\u001b[33m\"\u001b[39m\u001b[33mEmail must contain @\u001b[39m\u001b[33m\"\u001b[39m)         \n",
      "\u001b[31mTypeError\u001b[39m: Email must be a string"
     ]
    }
   ],
   "source": [
    "person2.email=6"
   ]
  },
  {
   "cell_type": "code",
   "execution_count": 42,
   "id": "0481dd65",
   "metadata": {},
   "outputs": [],
   "source": [
    "person2.age=0"
   ]
  },
  {
   "cell_type": "code",
   "execution_count": 43,
   "id": "25c0c2d2",
   "metadata": {},
   "outputs": [
    {
     "data": {
      "text/plain": [
       "This person's name is Fredrik, age is 0 years, email is ik@kiy.com"
      ]
     },
     "execution_count": 43,
     "metadata": {},
     "output_type": "execute_result"
    }
   ],
   "source": [
    "person2"
   ]
  },
  {
   "cell_type": "markdown",
   "id": "79971209",
   "metadata": {},
   "source": [
    "2. Student and Teacher (*)\n",
    "Create two classes named Student and Teacher that inherits from Person.\n",
    "\n",
    "The Student class shall have:\n",
    "\n",
    "study() method that prints out\n",
    "study...study...study...more study\n",
    "override say_hello() with the following message:\n",
    "Yo, I am a student, my name is ..., I am ... years old, my email address is ...\n",
    "\n",
    "\n",
    "The Teacher class shall have:\n",
    "\n",
    "teach() method that prints out\n",
    "\n",
    "teach...teach...teach...more teaching\n",
    "\n",
    "Instantiate a Teacher object and a Student object. \n",
    "Call:\n",
    "teach() and say_hello() methods from your Teacher object.\n",
    "study() and say_hello() methods from your Student object.\n"
   ]
  },
  {
   "cell_type": "code",
   "execution_count": 15,
   "id": "3bf00262",
   "metadata": {},
   "outputs": [],
   "source": [
    "class Student(Person):\n",
    "    def __init__(self,name: str, age: int, email: str):\n",
    "        super().__init__(name,age,email)\n",
    "\n",
    "\n",
    "    def say_hello(self):\n",
    "        print(f\"Yo, I am a student, my name is {self.name}, I am {self.age} years old, my email address is {self.email}\")\n",
    "\n",
    "    def study(self):\n",
    "        print(\"study...study...study...more study\")"
   ]
  },
  {
   "cell_type": "code",
   "execution_count": 25,
   "id": "e46e42d9",
   "metadata": {},
   "outputs": [
    {
     "name": "stdout",
     "output_type": "stream",
     "text": [
      "Yo, I am a student, my name is Anna, I am 20 years old, my email address is hh@ll.dd\n",
      "study...study...study...more study\n"
     ]
    }
   ],
   "source": [
    "student1=Student(\"Anna\", 20, \"hh@ll.dd\")\n",
    "student1.say_hello()\n",
    "student1.study()"
   ]
  },
  {
   "cell_type": "code",
   "execution_count": 17,
   "id": "7ac51c70",
   "metadata": {},
   "outputs": [],
   "source": [
    "class Teacher(Person):\n",
    "    def __init__(self,name: str, age: int, email: str):\n",
    "        super().__init__(name,age,email)\n",
    "\n",
    "    def teach(self):\n",
    "        print(f\"teach...teach...teach...more teaching\")"
   ]
  },
  {
   "cell_type": "code",
   "execution_count": 24,
   "id": "92b524ef",
   "metadata": {},
   "outputs": [
    {
     "name": "stdout",
     "output_type": "stream",
     "text": [
      "Hi, my name is Lillemor, I am 55 years old, my email address is psk@asd.gg\n",
      "teach...teach...teach...more teaching\n"
     ]
    }
   ],
   "source": [
    "teacher1=Teacher(\"Lillemor\", 55, \"psk@asd.gg\")\n",
    "teacher1.say_hello()\n",
    "teacher1.teach()"
   ]
  },
  {
   "cell_type": "code",
   "execution_count": 45,
   "id": "bd8aa574",
   "metadata": {},
   "outputs": [
    {
     "name": "stdout",
     "output_type": "stream",
     "text": [
      "Hi, my name is Vera, I am 38 years old, my email address is bn@klk.com\n",
      "Hi, my name is Fredrik, I am 0 years old, my email address is ik@kiy.com\n",
      "Yo, I am a student, my name is Anna, I am 20 years old, my email address is hh@ll.dd\n",
      "Hi, my name is Lillemor, I am 55 years old, my email address is psk@asd.gg\n"
     ]
    }
   ],
   "source": [
    "people = (person1,person2,student1,teacher1)\n",
    "for person in people:\n",
    "    person.say_hello()"
   ]
  },
  {
   "cell_type": "code",
   "execution_count": null,
   "id": "d39e7fee",
   "metadata": {},
   "outputs": [],
   "source": []
  }
 ],
 "metadata": {
  "kernelspec": {
   "display_name": "Python 3",
   "language": "python",
   "name": "python3"
  },
  "language_info": {
   "codemirror_mode": {
    "name": "ipython",
    "version": 3
   },
   "file_extension": ".py",
   "mimetype": "text/x-python",
   "name": "python",
   "nbconvert_exporter": "python",
   "pygments_lexer": "ipython3",
   "version": "3.12.10"
  }
 },
 "nbformat": 4,
 "nbformat_minor": 5
}
