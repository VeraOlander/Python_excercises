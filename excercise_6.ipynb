{
 "cells": [
  {
   "cell_type": "markdown",
   "id": "d8876b66",
   "metadata": {},
   "source": [
    "0. Unit conversion (*)\n",
    "Create a class for converting US units to the metric system. It should have the following bound methods:\n",
    "\n",
    "__init__ (self, value)\n",
    "\n",
    "inch_to_cm(self)\n",
    "\n",
    "foot_to_meters(self)\n",
    "\n",
    "pound_to_kg(self)\n",
    "\n",
    "__repr__(self)\n",
    "Make sure that value is the correct type and format, raise suitable exceptions in case it isn't. Make value into property with getter and setter. Test your class manually by instantiating an object from it and test different methods. (*)"
   ]
  },
  {
   "cell_type": "code",
   "execution_count": 1,
   "id": "0c8df6d8",
   "metadata": {},
   "outputs": [],
   "source": [
    "class Unit_conversion:\n",
    "    def __init__(self,inch_to_cm,foot_to_meters,pound_to_kg):\n",
    "        self.inch_to_cm=inch_to_cm\n",
    "        foot_to_meters=foot_to_meters\n",
    "        pound_to_kg=pound_to_kg\n",
    "        "
   ]
  }
 ],
 "metadata": {
  "kernelspec": {
   "display_name": "Python 3",
   "language": "python",
   "name": "python3"
  },
  "language_info": {
   "codemirror_mode": {
    "name": "ipython",
    "version": 3
   },
   "file_extension": ".py",
   "mimetype": "text/x-python",
   "name": "python",
   "nbconvert_exporter": "python",
   "pygments_lexer": "ipython3",
   "version": "3.12.10"
  }
 },
 "nbformat": 4,
 "nbformat_minor": 5
}
