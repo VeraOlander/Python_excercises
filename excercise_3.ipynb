{
 "cells": [
  {
   "cell_type": "markdown",
   "id": "4c041dd1",
   "metadata": {},
   "source": [
    "0. Dice rolls (*)\n",
    "Simulate 10 dice rolls and append the rolls to a list. Do this once again but now use list comprehension instead to create the list.\n",
    "\n",
    "a) sort the list in ascending order (*)\n",
    "\n",
    "b) sort the list in descending order (*)\n",
    "\n",
    "c) find the maximum and minimum value in the list (*)\n",
    "\n",
    "d) calculate the mean (average) of the list (*)\n",
    "\n",
    "e) find the median of the list (*)\n",
    "\n",
    "f) extract only the unique values from the list. The output should be a list (*)"
   ]
  },
  {
   "cell_type": "code",
   "execution_count": 1,
   "id": "2e3b14a7",
   "metadata": {},
   "outputs": [],
   "source": [
    "import random"
   ]
  },
  {
   "cell_type": "code",
   "execution_count": 15,
   "id": "029abf92",
   "metadata": {},
   "outputs": [
    {
     "name": "stdout",
     "output_type": "stream",
     "text": [
      "[6, 5, 2, 6, 2, 5, 3, 5, 6, 1]\n"
     ]
    }
   ],
   "source": [
    "# create a list\n",
    "list_of_dice_rolls = []\n",
    "for roll in range(10):\n",
    "    roll=random.randint(1, 6)\n",
    "    list_of_dice_rolls.append(roll)\n",
    "print(list_of_dice_rolls)\n"
   ]
  },
  {
   "cell_type": "code",
   "execution_count": 26,
   "id": "cc4dae29",
   "metadata": {},
   "outputs": [
    {
     "name": "stdout",
     "output_type": "stream",
     "text": [
      "[2, 6, 1, 3, 6, 4, 6, 2, 4, 3]\n"
     ]
    }
   ],
   "source": [
    "# create a list with list comprehensions\n",
    "list_of_dice_rolls = [random.randint(1, 6) for roll in range(10)]\n",
    "\n",
    "print(list_of_dice_rolls)"
   ]
  },
  {
   "cell_type": "code",
   "execution_count": 27,
   "id": "2793417d",
   "metadata": {},
   "outputs": [
    {
     "name": "stdout",
     "output_type": "stream",
     "text": [
      "[3, 4, 2, 6, 4, 6, 3, 1, 6, 2]\n"
     ]
    }
   ],
   "source": [
    "list_of_dice_rolls.reverse()\n",
    "print(list_of_dice_rolls)"
   ]
  },
  {
   "cell_type": "code",
   "execution_count": 28,
   "id": "cbc0b81a",
   "metadata": {},
   "outputs": [
    {
     "name": "stdout",
     "output_type": "stream",
     "text": [
      "[1, 2, 2, 3, 3, 4, 4, 6, 6, 6]\n"
     ]
    }
   ],
   "source": [
    "list_of_dice_rolls.sort()\n",
    "print(list_of_dice_rolls)"
   ]
  },
  {
   "cell_type": "code",
   "execution_count": 29,
   "id": "c5e89ed5",
   "metadata": {},
   "outputs": [
    {
     "name": "stdout",
     "output_type": "stream",
     "text": [
      "6\n",
      "1\n",
      "3.7\n"
     ]
    }
   ],
   "source": [
    "print(max(list_of_dice_rolls))\n",
    "print(min(list_of_dice_rolls))\n",
    "print(sum(list_of_dice_rolls)/len(list_of_dice_rolls))\n"
   ]
  },
  {
   "cell_type": "code",
   "execution_count": 30,
   "id": "44b89adf",
   "metadata": {},
   "outputs": [
    {
     "name": "stdout",
     "output_type": "stream",
     "text": [
      "3.5\n"
     ]
    }
   ],
   "source": [
    "length=len(list_of_dice_rolls)\n",
    "\n",
    "if length%2==0:\n",
    "    middle_element=(list_of_dice_rolls[length//2-1]+list_of_dice_rolls[length//2])/2\n",
    "else:\n",
    "    middle_element=list_of_dice_rolls[length//2]\n",
    "print(middle_element)"
   ]
  },
  {
   "cell_type": "code",
   "execution_count": 48,
   "id": "ca649701",
   "metadata": {},
   "outputs": [
    {
     "name": "stdout",
     "output_type": "stream",
     "text": [
      "[1, 2, 3, 4, 6]\n"
     ]
    }
   ],
   "source": [
    "list_of_unique_values=[]\n",
    "for roll in list_of_dice_rolls:\n",
    "    if roll not in list_of_unique_values:\n",
    "        list_of_unique_values.append(roll)\n",
    "print(list_of_unique_values)"
   ]
  },
  {
   "cell_type": "markdown",
   "id": "bb5c8e11",
   "metadata": {},
   "source": [
    "1. Food menu (*)\n",
    "Create a:\n",
    "\n",
    "a) list with the following elements: \"vegetarian lasagna\", \"spaghetti\", \"fish\", \"soup\", \"pancakes\". (*)\n",
    "\n",
    "b) list with the weekdays (*)\n",
    "\n",
    "c) create a food menu with each day corresponding to each food item and print it out like this (*)\n",
    "\n",
    "Day        Food\n",
    "-----------------\n",
    "Monday     vegetarian lasagna\n",
    "Tuesday    spaghetti\n",
    "Wednesday  fish\n",
    "Thursday   soup\n",
    "Friday     pancakes"
   ]
  },
  {
   "cell_type": "code",
   "execution_count": 60,
   "id": "db922528",
   "metadata": {},
   "outputs": [
    {
     "name": "stdout",
     "output_type": "stream",
     "text": [
      "Day         Food\n",
      "------------------------------\n",
      "Monday      vegetarian lasagna\n",
      "Tuesday     spaghetti\n",
      "Wednesday   fish\n",
      "Thursday    soup\n",
      "Friday      pancakes\n"
     ]
    }
   ],
   "source": [
    "foods=[\"vegetarian lasagna\", \"spaghetti\", \"fish\", \"soup\", \"pancakes\"]\n",
    "weekdays=[\"Monday\", \"Tuesday\",\"Wednesday\",\"Thursday\", \"Friday\"]\n",
    "print(f\"{'Day':<11} {'Food'}\")\n",
    "print(\"-\"*30)\n",
    "for day,food in zip(weekdays,foods):\n",
    "    print(f\"{day:<12}{food}\")\n"
   ]
  },
  {
   "cell_type": "markdown",
   "id": "614eb261",
   "metadata": {},
   "source": [
    "2. Squares (*)\n",
    "a) Use list comprehension to create a list of squares from -10 to 10 (*)\n",
    "\n",
    "b) Plot this list using matplotlib. (*)"
   ]
  },
  {
   "cell_type": "code",
   "execution_count": 62,
   "id": "f3bc7f19",
   "metadata": {},
   "outputs": [
    {
     "name": "stdout",
     "output_type": "stream",
     "text": [
      "[100, 81, 64, 49, 36, 25, 16, 9, 4, 1, 0, 1, 4, 9, 16, 25, 36, 49, 64, 81, 100]\n"
     ]
    }
   ],
   "source": [
    "squares=[x**2 for x in range (-10,11)]\n",
    "print(squares)"
   ]
  }
 ],
 "metadata": {
  "kernelspec": {
   "display_name": "Python 3",
   "language": "python",
   "name": "python3"
  },
  "language_info": {
   "codemirror_mode": {
    "name": "ipython",
    "version": 3
   },
   "file_extension": ".py",
   "mimetype": "text/x-python",
   "name": "python",
   "nbconvert_exporter": "python",
   "pygments_lexer": "ipython3",
   "version": "3.12.10"
  }
 },
 "nbformat": 4,
 "nbformat_minor": 5
}
