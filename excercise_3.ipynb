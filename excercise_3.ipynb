{
 "cells": [
  {
   "cell_type": "markdown",
   "id": "4c041dd1",
   "metadata": {},
   "source": [
    "0. Dice rolls (*)\n",
    "Simulate 10 dice rolls and append the rolls to a list. Do this once again but now use list comprehension instead to create the list.\n",
    "\n",
    "a) sort the list in ascending order (*)\n",
    "\n",
    "b) sort the list in descending order (*)\n",
    "\n",
    "c) find the maximum and minimum value in the list (*)\n",
    "\n",
    "d) calculate the mean (average) of the list (*)\n",
    "\n",
    "e) find the median of the list (*)\n",
    "\n",
    "f) extract only the unique values from the list. The output should be a list (*)"
   ]
  },
  {
   "cell_type": "code",
   "execution_count": 1,
   "id": "2e3b14a7",
   "metadata": {},
   "outputs": [],
   "source": [
    "import random"
   ]
  },
  {
   "cell_type": "code",
   "execution_count": 15,
   "id": "029abf92",
   "metadata": {},
   "outputs": [
    {
     "name": "stdout",
     "output_type": "stream",
     "text": [
      "[6, 5, 2, 6, 2, 5, 3, 5, 6, 1]\n"
     ]
    }
   ],
   "source": [
    "# create a list\n",
    "list_of_dice_rolls = []\n",
    "for roll in range(10):\n",
    "    roll=random.randint(1, 6)\n",
    "    list_of_dice_rolls.append(roll)\n",
    "print(list_of_dice_rolls)\n"
   ]
  },
  {
   "cell_type": "code",
   "execution_count": 26,
   "id": "cc4dae29",
   "metadata": {},
   "outputs": [
    {
     "name": "stdout",
     "output_type": "stream",
     "text": [
      "[2, 6, 1, 3, 6, 4, 6, 2, 4, 3]\n"
     ]
    }
   ],
   "source": [
    "# create a list with list comprehensions\n",
    "list_of_dice_rolls = [random.randint(1, 6) for roll in range(10)]\n",
    "\n",
    "print(list_of_dice_rolls)"
   ]
  },
  {
   "cell_type": "code",
   "execution_count": 27,
   "id": "2793417d",
   "metadata": {},
   "outputs": [
    {
     "name": "stdout",
     "output_type": "stream",
     "text": [
      "[3, 4, 2, 6, 4, 6, 3, 1, 6, 2]\n"
     ]
    }
   ],
   "source": [
    "list_of_dice_rolls.reverse()\n",
    "print(list_of_dice_rolls)"
   ]
  },
  {
   "cell_type": "code",
   "execution_count": 28,
   "id": "cbc0b81a",
   "metadata": {},
   "outputs": [
    {
     "name": "stdout",
     "output_type": "stream",
     "text": [
      "[1, 2, 2, 3, 3, 4, 4, 6, 6, 6]\n"
     ]
    }
   ],
   "source": [
    "list_of_dice_rolls.sort()\n",
    "print(list_of_dice_rolls)"
   ]
  },
  {
   "cell_type": "code",
   "execution_count": 29,
   "id": "c5e89ed5",
   "metadata": {},
   "outputs": [
    {
     "name": "stdout",
     "output_type": "stream",
     "text": [
      "6\n",
      "1\n",
      "3.7\n"
     ]
    }
   ],
   "source": [
    "print(max(list_of_dice_rolls))\n",
    "print(min(list_of_dice_rolls))\n",
    "print(sum(list_of_dice_rolls)/len(list_of_dice_rolls))\n"
   ]
  },
  {
   "cell_type": "code",
   "execution_count": 30,
   "id": "44b89adf",
   "metadata": {},
   "outputs": [
    {
     "name": "stdout",
     "output_type": "stream",
     "text": [
      "3.5\n"
     ]
    }
   ],
   "source": [
    "length=len(list_of_dice_rolls)\n",
    "\n",
    "if length%2==0:\n",
    "    middle_element=(list_of_dice_rolls[length//2-1]+list_of_dice_rolls[length//2])/2\n",
    "else:\n",
    "    middle_element=list_of_dice_rolls[length//2]\n",
    "print(middle_element)"
   ]
  },
  {
   "cell_type": "code",
   "execution_count": 48,
   "id": "ca649701",
   "metadata": {},
   "outputs": [
    {
     "name": "stdout",
     "output_type": "stream",
     "text": [
      "[1, 2, 3, 4, 6]\n"
     ]
    }
   ],
   "source": [
    "list_of_unique_values=[]\n",
    "for roll in list_of_dice_rolls:\n",
    "    if roll not in list_of_unique_values:\n",
    "        list_of_unique_values.append(roll)\n",
    "print(list_of_unique_values)"
   ]
  },
  {
   "cell_type": "markdown",
   "id": "bb5c8e11",
   "metadata": {},
   "source": [
    "1. Food menu (*)\n",
    "Create a:\n",
    "\n",
    "a) list with the following elements: \"vegetarian lasagna\", \"spaghetti\", \"fish\", \"soup\", \"pancakes\". (*)\n",
    "\n",
    "b) list with the weekdays (*)\n",
    "\n",
    "c) create a food menu with each day corresponding to each food item and print it out like this (*)\n",
    "\n",
    "Day        Food\n",
    "-----------------\n",
    "Monday     vegetarian lasagna\n",
    "Tuesday    spaghetti\n",
    "Wednesday  fish\n",
    "Thursday   soup\n",
    "Friday     pancakes"
   ]
  },
  {
   "cell_type": "code",
   "execution_count": 60,
   "id": "db922528",
   "metadata": {},
   "outputs": [
    {
     "name": "stdout",
     "output_type": "stream",
     "text": [
      "Day         Food\n",
      "------------------------------\n",
      "Monday      vegetarian lasagna\n",
      "Tuesday     spaghetti\n",
      "Wednesday   fish\n",
      "Thursday    soup\n",
      "Friday      pancakes\n"
     ]
    }
   ],
   "source": [
    "foods=[\"vegetarian lasagna\", \"spaghetti\", \"fish\", \"soup\", \"pancakes\"]\n",
    "weekdays=[\"Monday\", \"Tuesday\",\"Wednesday\",\"Thursday\", \"Friday\"]\n",
    "print(f\"{'Day':<11} {'Food'}\")\n",
    "print(\"-\"*30)\n",
    "for day,food in zip(weekdays,foods):\n",
    "    print(f\"{day:<12}{food}\")\n"
   ]
  },
  {
   "cell_type": "markdown",
   "id": "614eb261",
   "metadata": {},
   "source": [
    "2. Squares (*)\n",
    "a) Use list comprehension to create a list of squares from -10 to 10 (*)\n",
    "\n",
    "b) Plot this list using matplotlib. (*)"
   ]
  },
  {
   "cell_type": "code",
   "execution_count": 9,
   "id": "f3bc7f19",
   "metadata": {},
   "outputs": [
    {
     "name": "stdout",
     "output_type": "stream",
     "text": [
      "[-10, -9, -8, -7, -6, -5, -4, -3, -2, -1, 0, 1, 2, 3, 4, 5, 6, 7, 8, 9, 10]\n",
      "[100, 81, 64, 49, 36, 25, 16, 9, 4, 1, 0, 1, 4, 9, 16, 25, 36, 49, 64, 81, 100]\n"
     ]
    }
   ],
   "source": [
    "numbers=[]\n",
    "for x in range (-10,11):\n",
    "    numbers.append(x)\n",
    "\n",
    "squares=[x**2 for x in range (-10,11)]\n",
    "print(numbers)\n",
    "print(squares)"
   ]
  },
  {
   "cell_type": "code",
   "execution_count": 4,
   "id": "0aaf0381",
   "metadata": {},
   "outputs": [],
   "source": [
    "import matplotlib.pyplot as plt\n",
    "import numpy as np"
   ]
  },
  {
   "cell_type": "code",
   "execution_count": 12,
   "id": "1f5529d0",
   "metadata": {},
   "outputs": [
    {
     "data": {
      "text/plain": [
       "Text(0, 0.5, 'squares')"
      ]
     },
     "execution_count": 12,
     "metadata": {},
     "output_type": "execute_result"
    },
    {
     "data": {
      "image/png": "[encoded data removed]",
      "text/plain": [
       "<Figure size 640x480 with 1 Axes>"
      ]
     },
     "metadata": {},
     "output_type": "display_data"
    }
   ],
   "source": [
    "plt.figure()\n",
    "plt.plot(numbers,squares)\n",
    "plt.title(\"Squares\")\n",
    "plt.xlabel(\"numbers\")\n",
    "plt.ylabel(\"squares\")"
   ]
  },
  {
   "cell_type": "markdown",
   "id": "d26c73e3",
   "metadata": {},
   "source": [
    "3. Chessboard (**)\n",
    "a) Create this list using list comprehension: (*)\n",
    "\n",
    "['A1', 'B1', 'C1', 'D1', 'E1', 'F1', 'G1', 'H1']\n",
    "b) Create a 2D list to hold the coordinates in a chessboard like this (**)\n",
    "\n",
    "[[A1, B1, C1, D1, E1, F1, G1, H1],\n",
    " [A2, B2, C2, D2, E2, F2, G2, H2],\n",
    " [A3, B3, C3, D3, E3, F3, G3, H3],\n",
    " [A4, B4, C4, D4, E4, F4, G4, H4],\n",
    " [A5, B5, C5, D5, E5, F5, G5, H5],\n",
    " [A6, B6, C6, D6, E6, F6, G6, H6],\n",
    " [A7, B7, C7, D7, E7, F7, G7, H7],\n",
    " [A8, B8, C8, D8, E8, F8, G8 ,H8]]\n",
    "c) Instead of lists use tuples to hold the coordinates in a chessboard like this (**)\n",
    "\n",
    "((\"A\",1),(\"B\",1),(\"C\",1),(\"D\",1),(\"E\",1),(\"F\",1),(\"G\",1),(\"H\",1)),\n",
    "((\"A\",2),(\"B\",2),(\"C\",2),(\"D\",2),(\"E\",2),(\"F\",2),(\"G\",2),(\"H\",2)),\n",
    "((\"A\",3),(\"B\",3),(\"C\",3),(\"D\",3),(\"E\",3),(\"F\",3),(\"G\",3),(\"H\",3)),\n",
    "((\"A\",4),(\"B\",4),(\"C\",4),(\"D\",4),(\"E\",4),(\"F\",4),(\"G\",4),(\"H\",4)),\n",
    "((\"A\",5),(\"B\",5),(\"C\",5),(\"D\",5),(\"E\",5),(\"F\",5),(\"G\",5),(\"H\",5)),\n",
    "((\"A\",6),(\"B\",6),(\"C\",6),(\"D\",6),(\"E\",6),(\"F\",6),(\"G\",6),(\"H\",6)),\n",
    "((\"A\",7),(\"B\",7),(\"C\",7),(\"D\",7),(\"E\",7),(\"F\",7),(\"G\",7),(\"H\",7)),\n",
    "((\"A\",8),(\"B\",8),(\"C\",8),(\"D\",8),(\"E\",8),(\"F\",8),(\"G\",8),(\"H\",8))"
   ]
  },
  {
   "cell_type": "code",
   "execution_count": 29,
   "id": "95d154f6",
   "metadata": {},
   "outputs": [
    {
     "name": "stdout",
     "output_type": "stream",
     "text": [
      "['A1', 'B1', 'C1', 'D1', 'E1', 'F1', 'G1', 'H1']\n"
     ]
    }
   ],
   "source": [
    "list_chess_mini = [f\"{chr(65+i)}1\" for i in range(8)]\n",
    "print(list_chess_mini)"
   ]
  },
  {
   "cell_type": "code",
   "execution_count": 28,
   "id": "5d3a6ebe",
   "metadata": {},
   "outputs": [
    {
     "name": "stdout",
     "output_type": "stream",
     "text": [
      "['A1', 'B1', 'C1', 'D1', 'E1', 'F1', 'G1', 'H1']\n",
      "['A2', 'B2', 'C2', 'D2', 'E2', 'F2', 'G2', 'H2']\n",
      "['A3', 'B3', 'C3', 'D3', 'E3', 'F3', 'G3', 'H3']\n",
      "['A4', 'B4', 'C4', 'D4', 'E4', 'F4', 'G4', 'H4']\n",
      "['A5', 'B5', 'C5', 'D5', 'E5', 'F5', 'G5', 'H5']\n",
      "['A6', 'B6', 'C6', 'D6', 'E6', 'F6', 'G6', 'H6']\n",
      "['A7', 'B7', 'C7', 'D7', 'E7', 'F7', 'G7', 'H7']\n",
      "['A8', 'B8', 'C8', 'D8', 'E8', 'F8', 'G8', 'H8']\n"
     ]
    }
   ],
   "source": [
    "list_chess = [[f\"{chr(65+i)}{j}\" for i in range(8)] for j in range(1,9)]\n",
    "\n",
    "for row in list_chess:\n",
    "    print(row)\n"
   ]
  },
  {
   "cell_type": "code",
   "execution_count": 30,
   "id": "07300d3c",
   "metadata": {},
   "outputs": [
    {
     "name": "stdout",
     "output_type": "stream",
     "text": [
      "A1 B1 C1 D1 E1 F1 G1 H1 \n",
      "A2 B2 C2 D2 E2 F2 G2 H2 \n",
      "A3 B3 C3 D3 E3 F3 G3 H3 \n",
      "A4 B4 C4 D4 E4 F4 G4 H4 \n",
      "A5 B5 C5 D5 E5 F5 G5 H5 \n",
      "A6 B6 C6 D6 E6 F6 G6 H6 \n",
      "A7 B7 C7 D7 E7 F7 G7 H7 \n",
      "A8 B8 C8 D8 E8 F8 G8 H8 \n"
     ]
    }
   ],
   "source": [
    "for row in list_chess:        # outer list\n",
    "    for square in row:        # inner list\n",
    "        print(square, end=\" \")\n",
    "    print()                   # new line after each row"
   ]
  }
 ],
 "metadata": {
  "kernelspec": {
   "display_name": "Python 3",
   "language": "python",
   "name": "python3"
  },
  "language_info": {
   "codemirror_mode": {
    "name": "ipython",
    "version": 3
   },
   "file_extension": ".py",
   "mimetype": "text/x-python",
   "name": "python",
   "nbconvert_exporter": "python",
   "pygments_lexer": "ipython3",
   "version": "3.12.10"
  }
 },
 "nbformat": 4,
 "nbformat_minor": 5
}
